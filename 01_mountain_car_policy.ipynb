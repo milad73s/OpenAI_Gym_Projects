{
 "cells": [
  {
   "cell_type": "markdown",
   "metadata": {},
   "source": [
    "# Explicit policy model agent for mountain car #"
   ]
  },
  {
   "cell_type": "code",
   "execution_count": 9,
   "metadata": {},
   "outputs": [],
   "source": [
    "import gym\n",
    "import numpy as np\n",
    "\n",
    "%matplotlib inline\n",
    "import matplotlib.pyplot as plt\n",
    "\n",
    "import time"
   ]
  },
  {
   "cell_type": "code",
   "execution_count": 10,
   "metadata": {},
   "outputs": [
    {
     "name": "stdout",
     "output_type": "stream",
     "text": [
      "\u001b[33mWARN: gym.spaces.Box autodetected dtype as <class 'numpy.float32'>. Please provide explicit dtype.\u001b[0m\n"
     ]
    }
   ],
   "source": [
    "env = gym.make(\"MountainCar-v0\")"
   ]
  },
  {
   "cell_type": "code",
   "execution_count": 11,
   "metadata": {},
   "outputs": [
    {
     "name": "stdout",
     "output_type": "stream",
     "text": [
      "Flag Captured!\n",
      "Total reward: -184.0\n",
      "Flag Captured!\n",
      "Total reward: -186.0\n",
      "Flag Captured!\n",
      "Total reward: -184.0\n",
      "Flag Captured!\n",
      "Total reward: -184.0\n",
      "Flag Captured!\n",
      "Total reward: -183.0\n",
      "Flag Captured!\n",
      "Total reward: -183.0\n",
      "Flag Captured!\n",
      "Total reward: -97.0\n",
      "Flag Captured!\n",
      "Total reward: -190.0\n",
      "Flag Captured!\n",
      "Total reward: -184.0\n",
      "Flag Captured!\n",
      "Total reward: -183.0\n",
      "Mission Accomplished, captured flag 10 times out of 10 trials\n"
     ]
    }
   ],
   "source": [
    "flag_counter = 0\n",
    "for i in range(10):\n",
    "    total_reward = 0\n",
    "    done = False\n",
    "    state = env.reset()\n",
    "    env.render()\n",
    "    time.sleep(0.1)\n",
    "\n",
    "    for _ in np.arange(200):\n",
    "        if _ < 50:\n",
    "            action = 0\n",
    "        elif _ < 100:\n",
    "            action = 2\n",
    "        elif _ < 150:\n",
    "            action = 0\n",
    "        elif _ < 200:\n",
    "            action = 2\n",
    "        state, reward, done, _ = env.step(action)\n",
    "        total_reward += reward\n",
    "        env.render()\n",
    "    #     time.sleep(0.1)\n",
    "        if done: \n",
    "            print(\"Flag Captured!\")\n",
    "            flag_counter += 1\n",
    "            break\n",
    "\n",
    "    env.close()\n",
    "    print(\"Total reward:\", total_reward)\n",
    "if flag_counter == 10:\n",
    "    print(\"Mission Accomplished, captured flag 10 times out of 10 trials\")"
   ]
  },
  {
   "cell_type": "code",
   "execution_count": null,
   "metadata": {},
   "outputs": [],
   "source": []
  }
 ],
 "metadata": {
  "kernelspec": {
   "display_name": "Python 3",
   "language": "python",
   "name": "python3"
  },
  "language_info": {
   "codemirror_mode": {
    "name": "ipython",
    "version": 3
   },
   "file_extension": ".py",
   "mimetype": "text/x-python",
   "name": "python",
   "nbconvert_exporter": "python",
   "pygments_lexer": "ipython3",
   "version": "3.6.5"
  }
 },
 "nbformat": 4,
 "nbformat_minor": 2
}
