{
 "cells": [
  {
   "cell_type": "code",
   "execution_count": 26,
   "metadata": {},
   "outputs": [],
   "source": [
    "import gym\n",
    "import numpy as np\n",
    "\n",
    "%matplotlib inline\n",
    "import matplotlib.pyplot as plt\n",
    "\n",
    "import time"
   ]
  },
  {
   "cell_type": "code",
   "execution_count": 27,
   "metadata": {},
   "outputs": [
    {
     "name": "stdout",
     "output_type": "stream",
     "text": [
      "Total reward: 200.0\n",
      "Total reward: 200.0\n",
      "Total reward: 200.0\n",
      "Total reward: 200.0\n",
      "Total reward: 200.0\n",
      "Total reward: 200.0\n",
      "Total reward: 200.0\n",
      "Total reward: 200.0\n",
      "Total reward: 200.0\n",
      "Total reward: 200.0\n",
      "200.0\n",
      "Mission Accomplished! Stayed up for 10 trials.\n"
     ]
    }
   ],
   "source": [
    "total_reward_sum = 0\n",
    "for i in range(10):\n",
    "    env = gym.make(\"CartPole-v1\")\n",
    "    total_reward = 0\n",
    "    done = False\n",
    "    state = env.reset()\n",
    "    env.render()\n",
    "    time.sleep(0.1)\n",
    "    action = 1\n",
    "    for step in np.arange(200):            \n",
    "        state, reward, done, _ = env.step(action)\n",
    "        total_reward += reward\n",
    "        if state[2] * state[3] < 0:\n",
    "            if state[2] > 0:\n",
    "                action = 0\n",
    "            else:\n",
    "                action = 1\n",
    "        else:\n",
    "            if state[2] > 0:\n",
    "                action = 1\n",
    "            else:\n",
    "                action = 0\n",
    "\n",
    "        if state[2] * 100 > 4:\n",
    "            action = 1\n",
    "        if state[2] * 100 < -4:\n",
    "            action = 0\n",
    "        env.render()\n",
    "#         time.sleep(0.1)\n",
    "    #     print(step, action, reward, state)\n",
    "    #     print(total_reward)\n",
    "        if done:\n",
    "            break\n",
    "\n",
    "    env.close()\n",
    "    print(\"Total reward:\", total_reward)\n",
    "    total_reward_sum += total_reward\n",
    "average_score = total_reward_sum / 10\n",
    "print(average_score)\n",
    "if average_score > 195:\n",
    "    print(\"Mission Accomplished! Stayed up for 10 trials.\")"
   ]
  },
  {
   "cell_type": "code",
   "execution_count": null,
   "metadata": {},
   "outputs": [],
   "source": []
  }
 ],
 "metadata": {
  "kernelspec": {
   "display_name": "Python 3",
   "language": "python",
   "name": "python3"
  },
  "language_info": {
   "codemirror_mode": {
    "name": "ipython",
    "version": 3
   },
   "file_extension": ".py",
   "mimetype": "text/x-python",
   "name": "python",
   "nbconvert_exporter": "python",
   "pygments_lexer": "ipython3",
   "version": "3.6.5"
  }
 },
 "nbformat": 4,
 "nbformat_minor": 2
}
